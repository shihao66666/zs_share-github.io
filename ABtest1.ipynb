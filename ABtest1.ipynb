{
 "cells": [
  {
   "cell_type": "code",
   "execution_count": 1,
   "id": "5b0acd87",
   "metadata": {
    "ExecuteTime": {
     "end_time": "2024-01-06T06:41:36.632387Z",
     "start_time": "2024-01-06T06:41:35.682893Z"
    }
   },
   "outputs": [],
   "source": [
    "import numpy as np\n",
    "import pandas as pd\n",
    "import matplotlib.pyplot as plt\n",
    "%matplotlib inline"
   ]
  },
  {
   "cell_type": "markdown",
   "id": "b601f967",
   "metadata": {},
   "source": [
    "#### 数据集解释：\n",
    "#### emb_tb_2.csv:用户特征数据集\n",
    "#### effct_tb.csv:广告点击情况数据集\n",
    "#### seed_cand_tb.csv:用户类型数据集\n",
    "#### 本报告主要使用广告点击情况数据，主要涉及字段如下：\n",
    "#### dmp_id:营销策略编号（源数据文档未做说明，这个根据情况设定为1.对照组，2.营销策略一，3.营销策略二）\n",
    "#### user_id:支付宝用户id\n",
    "#### label:用户当天是否点击活动广告(0:未点击，1：点击)"
   ]
  },
  {
   "cell_type": "code",
   "execution_count": 6,
   "id": "f5eba724",
   "metadata": {
    "ExecuteTime": {
     "end_time": "2024-01-06T06:46:29.749475Z",
     "start_time": "2024-01-06T06:46:29.235159Z"
    }
   },
   "outputs": [
    {
     "data": {
      "text/html": [
       "<div>\n",
       "<style scoped>\n",
       "    .dataframe tbody tr th:only-of-type {\n",
       "        vertical-align: middle;\n",
       "    }\n",
       "\n",
       "    .dataframe tbody tr th {\n",
       "        vertical-align: top;\n",
       "    }\n",
       "\n",
       "    .dataframe thead th {\n",
       "        text-align: right;\n",
       "    }\n",
       "</style>\n",
       "<table border=\"1\" class=\"dataframe\">\n",
       "  <thead>\n",
       "    <tr style=\"text-align: right;\">\n",
       "      <th></th>\n",
       "      <th>user_id</th>\n",
       "      <th>label</th>\n",
       "      <th>dmp_id</th>\n",
       "    </tr>\n",
       "  </thead>\n",
       "  <tbody>\n",
       "    <tr>\n",
       "      <th>0</th>\n",
       "      <td>1</td>\n",
       "      <td>0</td>\n",
       "      <td>1</td>\n",
       "    </tr>\n",
       "    <tr>\n",
       "      <th>1</th>\n",
       "      <td>1000004</td>\n",
       "      <td>0</td>\n",
       "      <td>1</td>\n",
       "    </tr>\n",
       "    <tr>\n",
       "      <th>2</th>\n",
       "      <td>1000004</td>\n",
       "      <td>0</td>\n",
       "      <td>2</td>\n",
       "    </tr>\n",
       "    <tr>\n",
       "      <th>3</th>\n",
       "      <td>1000006</td>\n",
       "      <td>0</td>\n",
       "      <td>1</td>\n",
       "    </tr>\n",
       "    <tr>\n",
       "      <th>4</th>\n",
       "      <td>1000006</td>\n",
       "      <td>0</td>\n",
       "      <td>3</td>\n",
       "    </tr>\n",
       "  </tbody>\n",
       "</table>\n",
       "</div>"
      ],
      "text/plain": [
       "   user_id  label  dmp_id\n",
       "0        1      0       1\n",
       "1  1000004      0       1\n",
       "2  1000004      0       2\n",
       "3  1000006      0       1\n",
       "4  1000006      0       3"
      ]
     },
     "execution_count": 6,
     "metadata": {},
     "output_type": "execute_result"
    }
   ],
   "source": [
    "data = pd.read_csv('./data/effect_tb.csv',header=None)\n",
    "# 首次读入发现没有列名，在数据量比较大的情况下，优先获取数据的详细信息，再读入\n",
    "data.columns = ['dt','user_id','label','dmp_id'] # 日期，用户id，是否点击，营销策略\n",
    "data.drop(columns='dt',inplace=True)\n",
    "data.head()"
   ]
  },
  {
   "cell_type": "code",
   "execution_count": 7,
   "id": "e5c20c10",
   "metadata": {
    "ExecuteTime": {
     "end_time": "2024-01-06T06:47:15.272408Z",
     "start_time": "2024-01-06T06:47:15.070948Z"
    }
   },
   "outputs": [
    {
     "data": {
      "text/html": [
       "<div>\n",
       "<style scoped>\n",
       "    .dataframe tbody tr th:only-of-type {\n",
       "        vertical-align: middle;\n",
       "    }\n",
       "\n",
       "    .dataframe tbody tr th {\n",
       "        vertical-align: top;\n",
       "    }\n",
       "\n",
       "    .dataframe thead th {\n",
       "        text-align: right;\n",
       "    }\n",
       "</style>\n",
       "<table border=\"1\" class=\"dataframe\">\n",
       "  <thead>\n",
       "    <tr style=\"text-align: right;\">\n",
       "      <th></th>\n",
       "      <th>user_id</th>\n",
       "      <th>label</th>\n",
       "      <th>dmp_id</th>\n",
       "    </tr>\n",
       "  </thead>\n",
       "  <tbody>\n",
       "    <tr>\n",
       "      <th>count</th>\n",
       "      <td>2.645958e+06</td>\n",
       "      <td>2.645958e+06</td>\n",
       "      <td>2.645958e+06</td>\n",
       "    </tr>\n",
       "    <tr>\n",
       "      <th>mean</th>\n",
       "      <td>3.112995e+06</td>\n",
       "      <td>1.456297e-02</td>\n",
       "      <td>1.395761e+00</td>\n",
       "    </tr>\n",
       "    <tr>\n",
       "      <th>std</th>\n",
       "      <td>1.828262e+06</td>\n",
       "      <td>1.197952e-01</td>\n",
       "      <td>6.920480e-01</td>\n",
       "    </tr>\n",
       "    <tr>\n",
       "      <th>min</th>\n",
       "      <td>1.000000e+00</td>\n",
       "      <td>0.000000e+00</td>\n",
       "      <td>1.000000e+00</td>\n",
       "    </tr>\n",
       "    <tr>\n",
       "      <th>25%</th>\n",
       "      <td>1.526772e+06</td>\n",
       "      <td>0.000000e+00</td>\n",
       "      <td>1.000000e+00</td>\n",
       "    </tr>\n",
       "    <tr>\n",
       "      <th>50%</th>\n",
       "      <td>3.062184e+06</td>\n",
       "      <td>0.000000e+00</td>\n",
       "      <td>1.000000e+00</td>\n",
       "    </tr>\n",
       "    <tr>\n",
       "      <th>75%</th>\n",
       "      <td>4.721132e+06</td>\n",
       "      <td>0.000000e+00</td>\n",
       "      <td>2.000000e+00</td>\n",
       "    </tr>\n",
       "    <tr>\n",
       "      <th>max</th>\n",
       "      <td>6.265402e+06</td>\n",
       "      <td>1.000000e+00</td>\n",
       "      <td>3.000000e+00</td>\n",
       "    </tr>\n",
       "  </tbody>\n",
       "</table>\n",
       "</div>"
      ],
      "text/plain": [
       "            user_id         label        dmp_id\n",
       "count  2.645958e+06  2.645958e+06  2.645958e+06\n",
       "mean   3.112995e+06  1.456297e-02  1.395761e+00\n",
       "std    1.828262e+06  1.197952e-01  6.920480e-01\n",
       "min    1.000000e+00  0.000000e+00  1.000000e+00\n",
       "25%    1.526772e+06  0.000000e+00  1.000000e+00\n",
       "50%    3.062184e+06  0.000000e+00  1.000000e+00\n",
       "75%    4.721132e+06  0.000000e+00  2.000000e+00\n",
       "max    6.265402e+06  1.000000e+00  3.000000e+00"
      ]
     },
     "execution_count": 7,
     "metadata": {},
     "output_type": "execute_result"
    }
   ],
   "source": [
    "# 查看数据分布  计数，均值，方差，分位数\n",
    "data.describe()"
   ]
  },
  {
   "cell_type": "markdown",
   "id": "2f506f4b",
   "metadata": {},
   "source": [
    "# 重复值处理"
   ]
  },
  {
   "cell_type": "code",
   "execution_count": 8,
   "id": "3a55fec8",
   "metadata": {
    "ExecuteTime": {
     "end_time": "2024-01-06T06:51:17.764625Z",
     "start_time": "2024-01-06T06:51:17.223139Z"
    }
   },
   "outputs": [
    {
     "data": {
      "text/plain": [
       "12983"
      ]
     },
     "execution_count": 8,
     "metadata": {},
     "output_type": "execute_result"
    }
   ],
   "source": [
    "# 检查是否存在重复行  应该是因为日期的影响，导致会有重复的数据。我的目的是看哪个营销策略会吸引更多的用户，看的是不同的用户，相同的用户在不同的时间点击多次可以排除\n",
    "sum(data.duplicated())"
   ]
  },
  {
   "cell_type": "code",
   "execution_count": 9,
   "id": "e4de095e",
   "metadata": {
    "ExecuteTime": {
     "end_time": "2024-01-06T06:54:04.851385Z",
     "start_time": "2024-01-06T06:54:03.880980Z"
    }
   },
   "outputs": [
    {
     "name": "stdout",
     "output_type": "stream",
     "text": [
      "before_shape: (2645958, 3)\n",
      "重复行数 0\n",
      "after_shape: (2632975, 3)\n"
     ]
    }
   ],
   "source": [
    "# 删除重复值\n",
    "print('before_shape:',data.shape)\n",
    "data = data.drop_duplicates()\n",
    "print('重复行数',sum(data.duplicated()))\n",
    "print('after_shape:',data.shape)"
   ]
  },
  {
   "cell_type": "code",
   "execution_count": 10,
   "id": "92142d79",
   "metadata": {
    "ExecuteTime": {
     "end_time": "2024-01-06T06:54:23.586083Z",
     "start_time": "2024-01-06T06:54:23.144094Z"
    }
   },
   "outputs": [
    {
     "data": {
      "text/html": [
       "<div>\n",
       "<style scoped>\n",
       "    .dataframe tbody tr th:only-of-type {\n",
       "        vertical-align: middle;\n",
       "    }\n",
       "\n",
       "    .dataframe tbody tr th {\n",
       "        vertical-align: top;\n",
       "    }\n",
       "\n",
       "    .dataframe thead th {\n",
       "        text-align: right;\n",
       "    }\n",
       "</style>\n",
       "<table border=\"1\" class=\"dataframe\">\n",
       "  <thead>\n",
       "    <tr style=\"text-align: right;\">\n",
       "      <th></th>\n",
       "      <th>user_id</th>\n",
       "      <th>label</th>\n",
       "      <th>dmp_id</th>\n",
       "    </tr>\n",
       "  </thead>\n",
       "  <tbody>\n",
       "  </tbody>\n",
       "</table>\n",
       "</div>"
      ],
      "text/plain": [
       "Empty DataFrame\n",
       "Columns: [user_id, label, dmp_id]\n",
       "Index: []"
      ]
     },
     "execution_count": 10,
     "metadata": {},
     "output_type": "execute_result"
    }
   ],
   "source": [
    "# 没有重复项了\n",
    "data[data.duplicated(keep=False)]"
   ]
  },
  {
   "cell_type": "markdown",
   "id": "0a879f1e",
   "metadata": {},
   "source": [
    "# 空值处理"
   ]
  },
  {
   "cell_type": "code",
   "execution_count": 21,
   "id": "4cbccc8e",
   "metadata": {
    "ExecuteTime": {
     "end_time": "2024-01-06T06:57:04.819483Z",
     "start_time": "2024-01-06T06:57:04.795743Z"
    }
   },
   "outputs": [
    {
     "data": {
      "text/plain": [
       "user_id    0\n",
       "label      0\n",
       "dmp_id     0\n",
       "dtype: int64"
      ]
     },
     "execution_count": 21,
     "metadata": {},
     "output_type": "execute_result"
    }
   ],
   "source": [
    "# 查看是否含有空值\n",
    "data.isnull().sum()"
   ]
  },
  {
   "cell_type": "code",
   "execution_count": 28,
   "id": "3220200e",
   "metadata": {
    "ExecuteTime": {
     "end_time": "2024-01-06T06:58:40.394888Z",
     "start_time": "2024-01-06T06:58:40.375880Z"
    }
   },
   "outputs": [
    {
     "name": "stdout",
     "output_type": "stream",
     "text": [
      "<class 'pandas.core.frame.DataFrame'>\n",
      "Index: 2632975 entries, 0 to 2645957\n",
      "Data columns (total 3 columns):\n",
      " #   Column   Dtype\n",
      "---  ------   -----\n",
      " 0   user_id  int64\n",
      " 1   label    int64\n",
      " 2   dmp_id   int64\n",
      "dtypes: int64(3)\n",
      "memory usage: 80.4 MB\n"
     ]
    }
   ],
   "source": [
    "data.info()"
   ]
  },
  {
   "cell_type": "markdown",
   "id": "4bc2ee37",
   "metadata": {},
   "source": [
    "# 异常值检验"
   ]
  },
  {
   "cell_type": "code",
   "execution_count": 30,
   "id": "c5b3e966",
   "metadata": {
    "ExecuteTime": {
     "end_time": "2024-01-06T07:00:35.676914Z",
     "start_time": "2024-01-06T07:00:35.391710Z"
    }
   },
   "outputs": [
    {
     "data": {
      "text/html": [
       "<div>\n",
       "<style scoped>\n",
       "    .dataframe tbody tr th:only-of-type {\n",
       "        vertical-align: middle;\n",
       "    }\n",
       "\n",
       "    .dataframe tbody tr th {\n",
       "        vertical-align: top;\n",
       "    }\n",
       "\n",
       "    .dataframe thead th {\n",
       "        text-align: right;\n",
       "    }\n",
       "</style>\n",
       "<table border=\"1\" class=\"dataframe\">\n",
       "  <thead>\n",
       "    <tr style=\"text-align: right;\">\n",
       "      <th>label</th>\n",
       "      <th>0</th>\n",
       "      <th>1</th>\n",
       "      <th>All</th>\n",
       "    </tr>\n",
       "    <tr>\n",
       "      <th>dmp_id</th>\n",
       "      <th></th>\n",
       "      <th></th>\n",
       "      <th></th>\n",
       "    </tr>\n",
       "  </thead>\n",
       "  <tbody>\n",
       "    <tr>\n",
       "      <th>1</th>\n",
       "      <td>1881745</td>\n",
       "      <td>23918</td>\n",
       "      <td>1905663</td>\n",
       "    </tr>\n",
       "    <tr>\n",
       "      <th>2</th>\n",
       "      <td>404811</td>\n",
       "      <td>6296</td>\n",
       "      <td>411107</td>\n",
       "    </tr>\n",
       "    <tr>\n",
       "      <th>3</th>\n",
       "      <td>307923</td>\n",
       "      <td>8282</td>\n",
       "      <td>316205</td>\n",
       "    </tr>\n",
       "    <tr>\n",
       "      <th>All</th>\n",
       "      <td>2594479</td>\n",
       "      <td>38496</td>\n",
       "      <td>2632975</td>\n",
       "    </tr>\n",
       "  </tbody>\n",
       "</table>\n",
       "</div>"
      ],
      "text/plain": [
       "label         0      1      All\n",
       "dmp_id                         \n",
       "1       1881745  23918  1905663\n",
       "2        404811   6296   411107\n",
       "3        307923   8282   316205\n",
       "All     2594479  38496  2632975"
      ]
     },
     "execution_count": 30,
     "metadata": {},
     "output_type": "execute_result"
    }
   ],
   "source": [
    "# 通过透视表观察是否存在不合理的取值范围\n",
    "data.pivot_table(index='dmp_id',columns='label',values='user_id',aggfunc='count',margins=True)"
   ]
  },
  {
   "cell_type": "code",
   "execution_count": null,
   "id": "4ff59275",
   "metadata": {},
   "outputs": [],
   "source": [
    "正常，dmp_id = 1是对照组\n",
    "      dmp_id = 2，3是实验组\n",
    "    label = 0是未点击，label=1是点击了"
   ]
  },
  {
   "cell_type": "markdown",
   "id": "c9c75d6f",
   "metadata": {},
   "source": [
    "# 假设检验"
   ]
  },
  {
   "cell_type": "markdown",
   "id": "6c489887",
   "metadata": {},
   "source": [
    "这里已经收集到数据了，做这个实验的目的是看这几个营销策略哪个表现得更好，表现更好的样本，和对照组是否有显著性差异"
   ]
  },
  {
   "cell_type": "markdown",
   "id": "12c729b8",
   "metadata": {},
   "source": [
    "## 计算需要的最小样本量"
   ]
  },
  {
   "cell_type": "code",
   "execution_count": 32,
   "id": "e7946fbc",
   "metadata": {
    "ExecuteTime": {
     "end_time": "2024-01-06T07:07:20.405373Z",
     "start_time": "2024-01-06T07:07:20.340371Z"
    }
   },
   "outputs": [
    {
     "data": {
      "text/plain": [
       "0.012551012429794775"
      ]
     },
     "execution_count": 32,
     "metadata": {},
     "output_type": "execute_result"
    }
   ],
   "source": [
    "# 对照组的点击率\n",
    "data[data['dmp_id'] == 1]['label'].mean()"
   ]
  },
  {
   "cell_type": "markdown",
   "id": "874f65c9",
   "metadata": {},
   "source": [
    "对照组的广告点击率是12.6%，我们想要最少提高1%的广告点击率。那么我们就可以使用这个网站来计算需要的最小样本量 α = 0.05， β=0.2，统计效应80% Baseline conversion rate ：历史的点击率，Minimum Detectable Effect：我们想要提高最小的百分比，1% https://www.evanmiller.org/ab-testing/sample-size.html   计算出来的最小样本量是17460"
   ]
  },
  {
   "cell_type": "code",
   "execution_count": 35,
   "id": "e7ea47a3",
   "metadata": {
    "ExecuteTime": {
     "end_time": "2024-01-06T07:10:56.625614Z",
     "start_time": "2024-01-06T07:10:56.598540Z"
    }
   },
   "outputs": [
    {
     "data": {
      "text/plain": [
       "dmp_id\n",
       "1    1905663\n",
       "2     411107\n",
       "3     316205\n",
       "Name: count, dtype: int64"
      ]
     },
     "execution_count": 35,
     "metadata": {},
     "output_type": "execute_result"
    }
   ],
   "source": [
    "data['dmp_id'].value_counts()"
   ]
  },
  {
   "cell_type": "markdown",
   "id": "0e3b7b1b",
   "metadata": {},
   "source": [
    "三种策略的样本数都大于最小样本数，样本数据合适"
   ]
  },
  {
   "cell_type": "code",
   "execution_count": 37,
   "id": "94d14a8d",
   "metadata": {
    "ExecuteTime": {
     "end_time": "2024-01-06T07:15:54.933370Z",
     "start_time": "2024-01-06T07:15:51.113375Z"
    }
   },
   "outputs": [],
   "source": [
    "# 保存清洗好的数据。在使用python对数据清洗完毕之后，一定要保存清洗好的数据，防止在后续操作中对清洗好的数据操作失误，需要再清洗一遍数据，对于大样本来说非常消耗时间\n",
    "data.to_csv('./data/out_put.csv',header=None)"
   ]
  },
  {
   "cell_type": "markdown",
   "id": "f037829d",
   "metadata": {},
   "source": [
    "## 提出假设，验证假设"
   ]
  },
  {
   "cell_type": "markdown",
   "id": "fcd537f1",
   "metadata": {},
   "source": [
    "看这几组的点击率是什么情况，点击率小于对照组的就不看了，哪个组的点击率大于对照组。"
   ]
  },
  {
   "cell_type": "code",
   "execution_count": 39,
   "id": "d8a4aa76",
   "metadata": {
    "ExecuteTime": {
     "end_time": "2024-01-06T07:23:02.330469Z",
     "start_time": "2024-01-06T07:23:02.243521Z"
    }
   },
   "outputs": [
    {
     "name": "stdout",
     "output_type": "stream",
     "text": [
      "对照组： 0.012551012429794775\n",
      "策略组1： 0.015314747742072015\n",
      "策略组2： 0.026191869198779274\n"
     ]
    }
   ],
   "source": [
    "print('对照组：',data[data['dmp_id'] == 1]['label'].mean())\n",
    "print('策略组1：',data[data['dmp_id'] == 2]['label'].mean())\n",
    "print('策略组2：',data[data['dmp_id'] == 3]['label'].mean())"
   ]
  },
  {
   "cell_type": "markdown",
   "id": "e897553e",
   "metadata": {},
   "source": [
    "策略组1和策略组2都有提升。策略1组提升了0.2%，策略组2提升了1.3%。只有策略组2满足我们的大于1%的要求。所以接下来我们就需要提出假设验证这个结果是显著的"
   ]
  },
  {
   "cell_type": "markdown",
   "id": "6edfdc27",
   "metadata": {},
   "source": [
    "### 提出假设"
   ]
  },
  {
   "cell_type": "markdown",
   "id": "bea6e52b",
   "metadata": {},
   "source": [
    "- 原假设和备择假设\n",
    "- 设对照组的点击率为p1，策略2组的点击率为p2\n",
    "- 原假设：H0 p1>=p2  备择假设：H1  p1<p2\n",
    "- 检验统计量的选择：样本属于大样本，均值和方差均未知，选择Z检验统计量"
   ]
  },
  {
   "cell_type": "code",
   "execution_count": 42,
   "id": "96cb5612",
   "metadata": {
    "ExecuteTime": {
     "end_time": "2024-01-06T07:33:21.834960Z",
     "start_time": "2024-01-06T07:33:21.704280Z"
    }
   },
   "outputs": [
    {
     "name": "stdout",
     "output_type": "stream",
     "text": [
      "对照组的点击率: 0.012551012429794775 实验组的点击率: 0.026191869198779274\n"
     ]
    }
   ],
   "source": [
    "control_g = data[data['dmp_id'] == 1]['label'].mean()\n",
    "control_sum = len(data[data['dmp_id'] == 1]['label'])\n",
    "ex_g = data[data['dmp_id'] == 3]['label'].mean()\n",
    "ex_sum  = len(data[data['dmp_id'] == 3]['label'])\n",
    "print('对照组的点击率:',control_g,'实验组的点击率:',ex_g)"
   ]
  },
  {
   "cell_type": "markdown",
   "id": "c5e9787b",
   "metadata": {},
   "source": [
    "这里为什么我使用的是两个样本各自的比例，而不是合并的比例\n",
    "- 使用合并的比例是基于两个样本来自于统一个总体，并且是基线比例相同。但是这是一种理想状态。\n",
    "- 使用两个样本的各自比例比较合适，接近于现实"
   ]
  },
  {
   "cell_type": "code",
   "execution_count": 45,
   "id": "e5fe4d99",
   "metadata": {
    "ExecuteTime": {
     "end_time": "2024-01-06T09:06:01.365010Z",
     "start_time": "2024-01-06T09:06:01.356035Z"
    }
   },
   "outputs": [
    {
     "name": "stdout",
     "output_type": "stream",
     "text": [
      "检验统计量z: -46.20280310569833\n"
     ]
    }
   ],
   "source": [
    "# 计算检验统计量的z值\n",
    "z = (control_g - ex_g) / (np.sqrt((1-control_g)*control_g / control_sum + (1-ex_g)*ex_g / ex_sum))\n",
    "print('检验统计量z:',z)"
   ]
  },
  {
   "cell_type": "code",
   "execution_count": 46,
   "id": "06e06294",
   "metadata": {
    "ExecuteTime": {
     "end_time": "2024-01-06T09:07:38.049731Z",
     "start_time": "2024-01-06T09:07:38.034773Z"
    }
   },
   "outputs": [
    {
     "name": "stdout",
     "output_type": "stream",
     "text": [
      "z_alpha: -1.6448536269514729\n"
     ]
    }
   ],
   "source": [
    "# 看显著性水平0.05对应的z分数\n",
    "from  scipy.stats import norm\n",
    "z_alpha = norm.ppf(0.05)\n",
    "print('z_alpha:',z_alpha)"
   ]
  },
  {
   "cell_type": "markdown",
   "id": "759d4403",
   "metadata": {},
   "source": [
    "z_alpha = -1.64,检验统计量是-46。改检验是左侧单尾检验，拒绝域是{z<z_alpha}，拒绝原假设。接下来计算p值"
   ]
  },
  {
   "cell_type": "code",
   "execution_count": 50,
   "id": "e0b41005",
   "metadata": {
    "ExecuteTime": {
     "end_time": "2024-01-06T09:12:41.870625Z",
     "start_time": "2024-01-06T09:12:41.859654Z"
    }
   },
   "outputs": [
    {
     "data": {
      "text/plain": [
       "0.0"
      ]
     },
     "execution_count": 50,
     "metadata": {},
     "output_type": "execute_result"
    }
   ],
   "source": [
    "p_value = 2 * (1 - norm.cdf(np.abs(z)))\n",
    "p_value"
   ]
  },
  {
   "cell_type": "markdown",
   "id": "a660d018",
   "metadata": {},
   "source": [
    "p值小于0.05，和使用z检验统计量相同。所以拒绝原假设。策略2相比于对照组有显著性差异。"
   ]
  }
 ],
 "metadata": {
  "kernelspec": {
   "display_name": "Python 3",
   "language": "python",
   "name": "python3"
  },
  "language_info": {
   "codemirror_mode": {
    "name": "ipython",
    "version": 3
   },
   "file_extension": ".py",
   "mimetype": "text/x-python",
   "name": "python",
   "nbconvert_exporter": "python",
   "pygments_lexer": "ipython3",
   "version": "3.9.0"
  },
  "toc": {
   "base_numbering": 1,
   "nav_menu": {},
   "number_sections": true,
   "sideBar": true,
   "skip_h1_title": false,
   "title_cell": "Table of Contents",
   "title_sidebar": "Contents",
   "toc_cell": false,
   "toc_position": {},
   "toc_section_display": true,
   "toc_window_display": false
  }
 },
 "nbformat": 4,
 "nbformat_minor": 5
}
